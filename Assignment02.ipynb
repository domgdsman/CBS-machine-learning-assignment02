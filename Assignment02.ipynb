{
 "cells": [
  {
   "cell_type": "code",
   "execution_count": 177,
   "metadata": {},
   "outputs": [],
   "source": [
    "# Require packages\n",
    "import numpy as np\n",
    "%matplotlib inline\n",
    "import pandas as pd"
   ]
  },
  {
   "cell_type": "code",
   "execution_count": 178,
   "metadata": {},
   "outputs": [],
   "source": [
    "# Load datasets\n",
    "head = ['age', 'workclass', 'fnlwgt', 'education', 'education_num', 'marital_status',\n",
    "        'occupation', 'relationship', 'race', 'sex', 'capital_gain', 'capital_loss',\n",
    "        'hours_per_week', 'native_country', 'income']\n",
    "\n",
    "dataMain = pd.read_csv(\"./adult_data/adult-data.csv\", names=head, index_col=False)\n",
    "dataTest = pd.read_csv(\"./adult_data/adult-test.csv\", names=head, index_col=False)"
   ]
  },
  {
   "cell_type": "code",
   "execution_count": 179,
   "metadata": {},
   "outputs": [
    {
     "data": {
      "text/html": [
       "<div>\n",
       "<style scoped>\n",
       "    .dataframe tbody tr th:only-of-type {\n",
       "        vertical-align: middle;\n",
       "    }\n",
       "\n",
       "    .dataframe tbody tr th {\n",
       "        vertical-align: top;\n",
       "    }\n",
       "\n",
       "    .dataframe thead th {\n",
       "        text-align: right;\n",
       "    }\n",
       "</style>\n",
       "<table border=\"1\" class=\"dataframe\">\n",
       "  <thead>\n",
       "    <tr style=\"text-align: right;\">\n",
       "      <th></th>\n",
       "      <th>age</th>\n",
       "      <th>workclass</th>\n",
       "      <th>fnlwgt</th>\n",
       "      <th>education</th>\n",
       "      <th>education_num</th>\n",
       "      <th>marital_status</th>\n",
       "      <th>occupation</th>\n",
       "      <th>relationship</th>\n",
       "      <th>race</th>\n",
       "      <th>sex</th>\n",
       "      <th>capital_gain</th>\n",
       "      <th>capital_loss</th>\n",
       "      <th>hours_per_week</th>\n",
       "      <th>native_country</th>\n",
       "      <th>income</th>\n",
       "    </tr>\n",
       "  </thead>\n",
       "  <tbody>\n",
       "    <tr>\n",
       "      <th>0</th>\n",
       "      <td>39</td>\n",
       "      <td>State-gov</td>\n",
       "      <td>77516</td>\n",
       "      <td>Bachelors</td>\n",
       "      <td>13</td>\n",
       "      <td>Never-married</td>\n",
       "      <td>Adm-clerical</td>\n",
       "      <td>Not-in-family</td>\n",
       "      <td>White</td>\n",
       "      <td>Male</td>\n",
       "      <td>2174</td>\n",
       "      <td>0</td>\n",
       "      <td>40</td>\n",
       "      <td>United-States</td>\n",
       "      <td>&lt;=50K</td>\n",
       "    </tr>\n",
       "    <tr>\n",
       "      <th>1</th>\n",
       "      <td>50</td>\n",
       "      <td>Self-emp-not-inc</td>\n",
       "      <td>83311</td>\n",
       "      <td>Bachelors</td>\n",
       "      <td>13</td>\n",
       "      <td>Married-civ-spouse</td>\n",
       "      <td>Exec-managerial</td>\n",
       "      <td>Husband</td>\n",
       "      <td>White</td>\n",
       "      <td>Male</td>\n",
       "      <td>0</td>\n",
       "      <td>0</td>\n",
       "      <td>13</td>\n",
       "      <td>United-States</td>\n",
       "      <td>&lt;=50K</td>\n",
       "    </tr>\n",
       "    <tr>\n",
       "      <th>2</th>\n",
       "      <td>38</td>\n",
       "      <td>Private</td>\n",
       "      <td>215646</td>\n",
       "      <td>HS-grad</td>\n",
       "      <td>9</td>\n",
       "      <td>Divorced</td>\n",
       "      <td>Handlers-cleaners</td>\n",
       "      <td>Not-in-family</td>\n",
       "      <td>White</td>\n",
       "      <td>Male</td>\n",
       "      <td>0</td>\n",
       "      <td>0</td>\n",
       "      <td>40</td>\n",
       "      <td>United-States</td>\n",
       "      <td>&lt;=50K</td>\n",
       "    </tr>\n",
       "    <tr>\n",
       "      <th>3</th>\n",
       "      <td>53</td>\n",
       "      <td>Private</td>\n",
       "      <td>234721</td>\n",
       "      <td>11th</td>\n",
       "      <td>7</td>\n",
       "      <td>Married-civ-spouse</td>\n",
       "      <td>Handlers-cleaners</td>\n",
       "      <td>Husband</td>\n",
       "      <td>Black</td>\n",
       "      <td>Male</td>\n",
       "      <td>0</td>\n",
       "      <td>0</td>\n",
       "      <td>40</td>\n",
       "      <td>United-States</td>\n",
       "      <td>&lt;=50K</td>\n",
       "    </tr>\n",
       "    <tr>\n",
       "      <th>4</th>\n",
       "      <td>28</td>\n",
       "      <td>Private</td>\n",
       "      <td>338409</td>\n",
       "      <td>Bachelors</td>\n",
       "      <td>13</td>\n",
       "      <td>Married-civ-spouse</td>\n",
       "      <td>Prof-specialty</td>\n",
       "      <td>Wife</td>\n",
       "      <td>Black</td>\n",
       "      <td>Female</td>\n",
       "      <td>0</td>\n",
       "      <td>0</td>\n",
       "      <td>40</td>\n",
       "      <td>Cuba</td>\n",
       "      <td>&lt;=50K</td>\n",
       "    </tr>\n",
       "  </tbody>\n",
       "</table>\n",
       "</div>"
      ],
      "text/plain": [
       "   age          workclass  fnlwgt   education  education_num  \\\n",
       "0   39          State-gov   77516   Bachelors             13   \n",
       "1   50   Self-emp-not-inc   83311   Bachelors             13   \n",
       "2   38            Private  215646     HS-grad              9   \n",
       "3   53            Private  234721        11th              7   \n",
       "4   28            Private  338409   Bachelors             13   \n",
       "\n",
       "        marital_status          occupation    relationship    race      sex  \\\n",
       "0        Never-married        Adm-clerical   Not-in-family   White     Male   \n",
       "1   Married-civ-spouse     Exec-managerial         Husband   White     Male   \n",
       "2             Divorced   Handlers-cleaners   Not-in-family   White     Male   \n",
       "3   Married-civ-spouse   Handlers-cleaners         Husband   Black     Male   \n",
       "4   Married-civ-spouse      Prof-specialty            Wife   Black   Female   \n",
       "\n",
       "   capital_gain  capital_loss  hours_per_week  native_country  income  \n",
       "0          2174             0              40   United-States   <=50K  \n",
       "1             0             0              13   United-States   <=50K  \n",
       "2             0             0              40   United-States   <=50K  \n",
       "3             0             0              40   United-States   <=50K  \n",
       "4             0             0              40            Cuba   <=50K  "
      ]
     },
     "execution_count": 179,
     "metadata": {},
     "output_type": "execute_result"
    }
   ],
   "source": [
    "# combine datasets\n",
    "df = pd.concat([dataMain, dataTest])\n",
    "\n",
    "# print the first few rows of the main dataset\n",
    "df.head()"
   ]
  },
  {
   "cell_type": "code",
   "execution_count": 180,
   "metadata": {},
   "outputs": [
    {
     "name": "stdout",
     "output_type": "stream",
     "text": [
      "<class 'pandas.core.frame.DataFrame'>\n",
      "Int64Index: 48842 entries, 0 to 16280\n",
      "Data columns (total 15 columns):\n",
      " #   Column          Non-Null Count  Dtype \n",
      "---  ------          --------------  ----- \n",
      " 0   age             48842 non-null  int64 \n",
      " 1   workclass       48842 non-null  object\n",
      " 2   fnlwgt          48842 non-null  int64 \n",
      " 3   education       48842 non-null  object\n",
      " 4   education_num   48842 non-null  int64 \n",
      " 5   marital_status  48842 non-null  object\n",
      " 6   occupation      48842 non-null  object\n",
      " 7   relationship    48842 non-null  object\n",
      " 8   race            48842 non-null  object\n",
      " 9   sex             48842 non-null  object\n",
      " 10  capital_gain    48842 non-null  int64 \n",
      " 11  capital_loss    48842 non-null  int64 \n",
      " 12  hours_per_week  48842 non-null  int64 \n",
      " 13  native_country  48842 non-null  object\n",
      " 14  income          48842 non-null  object\n",
      "dtypes: int64(6), object(9)\n",
      "memory usage: 6.0+ MB\n"
     ]
    }
   ],
   "source": [
    "# main dataset\n",
    "df.info()"
   ]
  },
  {
   "cell_type": "markdown",
   "metadata": {},
   "source": [
    "### Description of the dataset\n",
    "The dataset contains demographic information and information about income from 48842 individuals before 1996.\n",
    "The data was initially extracted from the US american census bureau on http://www.census.gov/ftp/pub/DES/www/welcome.html, but downloaded by the student from http://archive.ics.uci.edu/ml/datasets/Adult.\n",
    "\n",
    "#### The dataset has 14 features:\n",
    "- age: continuous.\n",
    "- workclass: Private, Self-emp-not-inc, Self-emp-inc, Federal-gov, Local-gov, State-gov, Without-pay, Never-worked.\n",
    "- fnlwgt: continuous.\n",
    "- education: Bachelors, Some-college, 11th, HS-grad, Prof-school, Assoc-acdm, Assoc-voc, 9th, 7th-8th, 12th, Masters, 1st-4th, 10th, Doctorate, 5th-6th, Preschool.\n",
    "- education-num: continuous.\n",
    "- marital-status: Married-civ-spouse, Divorced, Never-married, Separated, Widowed, Married-spouse-absent, Married-AF-spouse.\n",
    "- occupation: Tech-support, Craft-repair, Other-service, Sales, Exec-managerial, Prof-specialty, Handlers-cleaners, Machine-op-inspct, Adm-clerical, Farming-fishing, Transport-moving, Priv-house-serv, Protective-serv, Armed-Forces.\n",
    "- relationship: Wife, Own-child, Husband, Not-in-family, Other-relative, Unmarried.\n",
    "- race: White, Asian-Pac-Islander, Amer-Indian-Eskimo, Other, Black.\n",
    "- sex: Female, Male.\n",
    "- capital-gain: continuous.\n",
    "- capital-loss: continuous.\n",
    "- hours-per-week: continuous.\n",
    "- native-country: United-States, Cambodia, England, Puerto-Rico, Canada, Germany, Outlying-US(Guam-USVI-etc), India, Japan, Greece, South, China, Cuba, Iran, Honduras, Philippines, Italy, Poland, Jamaica, Vietnam, Mexico, Portugal, Ireland, France, Dominican-Republic, Laos, Ecuador, Taiwan, Haiti, Columbia, Hungary, Guatemala, Nicaragua, Scotland, Thailand, Yugoslavia, El-Salvador, Trinadad&Tobago, Peru, Hong, Holand-Netherlands.\n",
    "\n",
    "#### The label (dependent feature) for this dataset is:\n",
    "- income: >50K, <=50K.\n",
    "\n",
    "The dataset is initially provided with a train-test-split in two separate files.\n",
    "For simplicity in data cleaning and column transformations the data set is combined and train-test-split\n",
    "performed manually."
   ]
  },
  {
   "cell_type": "markdown",
   "metadata": {},
   "source": [
    "### Data Cleaning\n",
    "From observation and the description file delivered with the dataset, it becomes apparent that there\n",
    "has to be some minor data cleaning done:\n",
    "\n",
    "- there are duplicate or conflicting values according to <code>adult-names.txt</code> (file attached to the datasets)\n",
    "- some values are saved with trailing spaces or a trailing <code>.</code>\n",
    "- there are observations with unknow values: <code>?</code>\n",
    "\n",
    "It is also unclear, why the <code>capital_gain</code> and <code>capital_loss</code> columns are separated, which is why they could potentially be combined into one metric by calculating <code>capital_pl = capital_gain - capoital_loss</code>."
   ]
  },
  {
   "cell_type": "code",
   "execution_count": 181,
   "metadata": {},
   "outputs": [],
   "source": [
    "# function for cleaning the dataframes\n",
    "def cleanDataframe(df):\n",
    "    cleanDf = pd.DataFrame()\n",
    "    \n",
    "    for series in df:\n",
    "        # select only string columns for cleaning\n",
    "        if df[series].dtype == object:\n",
    "            # strip whitespace, inset NaN, strip trailing dot\n",
    "            cleanDf[series] = df[series].str.strip().replace('?', np.nan).str.rstrip('.')\n",
    "        else:\n",
    "            cleanDf[series] = df[series]\n",
    "    \n",
    "    # drop duplicates\n",
    "    cleanDf.drop_duplicates(inplace=True)\n",
    "    \n",
    "    # drop rows with NaN entries\n",
    "    cleanDf.dropna(inplace=True)\n",
    "    \n",
    "    # reset row index\n",
    "    cleanDf.reset_index(drop=True, inplace=True)\n",
    "    \n",
    "    return cleanDf"
   ]
  },
  {
   "cell_type": "code",
   "execution_count": 182,
   "metadata": {},
   "outputs": [],
   "source": [
    "# apply data cleaning function\n",
    "df = cleanDataframe(df)\n",
    "\n",
    "# join capital_gain, capital_loss columns to capital_pl\n",
    "capital_pl = df['capital_gain'].values - df['capital_loss'].values\n",
    "df.insert(10, 'capital_pl', capital_pl)\n",
    "df.drop(['capital_gain', 'capital_loss'], axis=1, inplace=True)"
   ]
  },
  {
   "cell_type": "markdown",
   "metadata": {},
   "source": [
    "## Column selection and dummy columns\n",
    "I decided to use the following features for analysis:\n",
    "\n",
    "- age: continuous\n",
    "- workclass: get_dummies\n",
    "- education_num: ordinal data\n",
    "- marital_status: get_dummies\n",
    "- race: get_dummies\n",
    "- sex: map(0=male, 1=female)\n",
    "- capital_pl: continuous\n",
    "- hours_per_week: continuous\n",
    "\n",
    "Label:\n",
    "- income: map(\"<=50K\"=0, \">50K\"=1)"
   ]
  },
  {
   "cell_type": "code",
   "execution_count": 184,
   "metadata": {},
   "outputs": [
    {
     "data": {
      "text/html": [
       "<div>\n",
       "<style scoped>\n",
       "    .dataframe tbody tr th:only-of-type {\n",
       "        vertical-align: middle;\n",
       "    }\n",
       "\n",
       "    .dataframe tbody tr th {\n",
       "        vertical-align: top;\n",
       "    }\n",
       "\n",
       "    .dataframe thead th {\n",
       "        text-align: right;\n",
       "    }\n",
       "</style>\n",
       "<table border=\"1\" class=\"dataframe\">\n",
       "  <thead>\n",
       "    <tr style=\"text-align: right;\">\n",
       "      <th></th>\n",
       "      <th>race_Asian-Pac-Islander</th>\n",
       "      <th>race_Black</th>\n",
       "      <th>race_Other</th>\n",
       "      <th>race_White</th>\n",
       "      <th>marital_status_Married-AF-spouse</th>\n",
       "      <th>marital_status_Married-civ-spouse</th>\n",
       "      <th>marital_status_Married-spouse-absent</th>\n",
       "      <th>marital_status_Never-married</th>\n",
       "      <th>marital_status_Separated</th>\n",
       "      <th>marital_status_Widowed</th>\n",
       "      <th>...</th>\n",
       "      <th>workclass_Self-emp-inc</th>\n",
       "      <th>workclass_Self-emp-not-inc</th>\n",
       "      <th>workclass_State-gov</th>\n",
       "      <th>workclass_Without-pay</th>\n",
       "      <th>age</th>\n",
       "      <th>education_num</th>\n",
       "      <th>sex</th>\n",
       "      <th>capital_pl</th>\n",
       "      <th>hours_per_week</th>\n",
       "      <th>income</th>\n",
       "    </tr>\n",
       "  </thead>\n",
       "  <tbody>\n",
       "    <tr>\n",
       "      <th>0</th>\n",
       "      <td>0</td>\n",
       "      <td>0</td>\n",
       "      <td>0</td>\n",
       "      <td>1</td>\n",
       "      <td>0</td>\n",
       "      <td>0</td>\n",
       "      <td>0</td>\n",
       "      <td>1</td>\n",
       "      <td>0</td>\n",
       "      <td>0</td>\n",
       "      <td>...</td>\n",
       "      <td>0</td>\n",
       "      <td>0</td>\n",
       "      <td>1</td>\n",
       "      <td>0</td>\n",
       "      <td>39</td>\n",
       "      <td>13</td>\n",
       "      <td>1</td>\n",
       "      <td>2174</td>\n",
       "      <td>40</td>\n",
       "      <td>0</td>\n",
       "    </tr>\n",
       "    <tr>\n",
       "      <th>1</th>\n",
       "      <td>0</td>\n",
       "      <td>0</td>\n",
       "      <td>0</td>\n",
       "      <td>1</td>\n",
       "      <td>0</td>\n",
       "      <td>1</td>\n",
       "      <td>0</td>\n",
       "      <td>0</td>\n",
       "      <td>0</td>\n",
       "      <td>0</td>\n",
       "      <td>...</td>\n",
       "      <td>0</td>\n",
       "      <td>1</td>\n",
       "      <td>0</td>\n",
       "      <td>0</td>\n",
       "      <td>50</td>\n",
       "      <td>13</td>\n",
       "      <td>1</td>\n",
       "      <td>0</td>\n",
       "      <td>13</td>\n",
       "      <td>0</td>\n",
       "    </tr>\n",
       "    <tr>\n",
       "      <th>2</th>\n",
       "      <td>0</td>\n",
       "      <td>0</td>\n",
       "      <td>0</td>\n",
       "      <td>1</td>\n",
       "      <td>0</td>\n",
       "      <td>0</td>\n",
       "      <td>0</td>\n",
       "      <td>0</td>\n",
       "      <td>0</td>\n",
       "      <td>0</td>\n",
       "      <td>...</td>\n",
       "      <td>0</td>\n",
       "      <td>0</td>\n",
       "      <td>0</td>\n",
       "      <td>0</td>\n",
       "      <td>38</td>\n",
       "      <td>9</td>\n",
       "      <td>1</td>\n",
       "      <td>0</td>\n",
       "      <td>40</td>\n",
       "      <td>0</td>\n",
       "    </tr>\n",
       "    <tr>\n",
       "      <th>3</th>\n",
       "      <td>0</td>\n",
       "      <td>1</td>\n",
       "      <td>0</td>\n",
       "      <td>0</td>\n",
       "      <td>0</td>\n",
       "      <td>1</td>\n",
       "      <td>0</td>\n",
       "      <td>0</td>\n",
       "      <td>0</td>\n",
       "      <td>0</td>\n",
       "      <td>...</td>\n",
       "      <td>0</td>\n",
       "      <td>0</td>\n",
       "      <td>0</td>\n",
       "      <td>0</td>\n",
       "      <td>53</td>\n",
       "      <td>7</td>\n",
       "      <td>1</td>\n",
       "      <td>0</td>\n",
       "      <td>40</td>\n",
       "      <td>0</td>\n",
       "    </tr>\n",
       "    <tr>\n",
       "      <th>4</th>\n",
       "      <td>0</td>\n",
       "      <td>1</td>\n",
       "      <td>0</td>\n",
       "      <td>0</td>\n",
       "      <td>0</td>\n",
       "      <td>1</td>\n",
       "      <td>0</td>\n",
       "      <td>0</td>\n",
       "      <td>0</td>\n",
       "      <td>0</td>\n",
       "      <td>...</td>\n",
       "      <td>0</td>\n",
       "      <td>0</td>\n",
       "      <td>0</td>\n",
       "      <td>0</td>\n",
       "      <td>28</td>\n",
       "      <td>13</td>\n",
       "      <td>0</td>\n",
       "      <td>0</td>\n",
       "      <td>40</td>\n",
       "      <td>0</td>\n",
       "    </tr>\n",
       "  </tbody>\n",
       "</table>\n",
       "<p>5 rows × 22 columns</p>\n",
       "</div>"
      ],
      "text/plain": [
       "   race_Asian-Pac-Islander  race_Black  race_Other  race_White  \\\n",
       "0                        0           0           0           1   \n",
       "1                        0           0           0           1   \n",
       "2                        0           0           0           1   \n",
       "3                        0           1           0           0   \n",
       "4                        0           1           0           0   \n",
       "\n",
       "   marital_status_Married-AF-spouse  marital_status_Married-civ-spouse  \\\n",
       "0                                 0                                  0   \n",
       "1                                 0                                  1   \n",
       "2                                 0                                  0   \n",
       "3                                 0                                  1   \n",
       "4                                 0                                  1   \n",
       "\n",
       "   marital_status_Married-spouse-absent  marital_status_Never-married  \\\n",
       "0                                     0                             1   \n",
       "1                                     0                             0   \n",
       "2                                     0                             0   \n",
       "3                                     0                             0   \n",
       "4                                     0                             0   \n",
       "\n",
       "   marital_status_Separated  marital_status_Widowed  ...  \\\n",
       "0                         0                       0  ...   \n",
       "1                         0                       0  ...   \n",
       "2                         0                       0  ...   \n",
       "3                         0                       0  ...   \n",
       "4                         0                       0  ...   \n",
       "\n",
       "   workclass_Self-emp-inc  workclass_Self-emp-not-inc  workclass_State-gov  \\\n",
       "0                       0                           0                    1   \n",
       "1                       0                           1                    0   \n",
       "2                       0                           0                    0   \n",
       "3                       0                           0                    0   \n",
       "4                       0                           0                    0   \n",
       "\n",
       "   workclass_Without-pay  age  education_num  sex  capital_pl  hours_per_week  \\\n",
       "0                      0   39             13    1        2174              40   \n",
       "1                      0   50             13    1           0              13   \n",
       "2                      0   38              9    1           0              40   \n",
       "3                      0   53              7    1           0              40   \n",
       "4                      0   28             13    0           0              40   \n",
       "\n",
       "   income  \n",
       "0       0  \n",
       "1       0  \n",
       "2       0  \n",
       "3       0  \n",
       "4       0  \n",
       "\n",
       "[5 rows x 22 columns]"
      ]
     },
     "execution_count": 184,
     "metadata": {},
     "output_type": "execute_result"
    }
   ],
   "source": [
    "# drop unused tables\n",
    "df.drop([\"fnlwgt\", 'education', 'occupation', 'relationship', 'native_country'], inplace = True, axis = 1)\n",
    "\n",
    "# get dummy columns for:\n",
    "\n",
    "# workclass:\n",
    "workclass = pd.get_dummies(df[\"workclass\"], prefix = \"workclass\", drop_first = True)\n",
    "df.drop(\"workclass\", inplace = True, axis = 1)\n",
    "df = pd.concat([workclass, df], axis = 1)\n",
    "\n",
    "# marital_status:\n",
    "marital_status = pd.get_dummies(df[\"marital_status\"], prefix = \"marital_status\", drop_first = True)\n",
    "df.drop(\"marital_status\", inplace = True, axis = 1)\n",
    "df = pd.concat([marital_status, df], axis = 1)\n",
    "\n",
    "# race:\n",
    "race = pd.get_dummies(df[\"race\"], prefix = \"race\", drop_first = True)\n",
    "df.drop(\"race\", inplace = True, axis = 1)\n",
    "df = pd.concat([race, df], axis = 1)\n",
    "\n",
    "# map columns for:\n",
    "\n",
    "# sex\n",
    "df[\"sex\"] = df.sex.map({\"Female\": 0, \"Male\": 1})\n",
    "\n",
    "# income\n",
    "df[\"income\"] = df.income.map({\"<=50K\": 0, \">50K\": 1})\n",
    "\n",
    "df.head()"
   ]
  },
  {
   "cell_type": "markdown",
   "metadata": {},
   "source": [
    "## Question 1: Grid search, KNN, SVM and Ensembles\n",
    "\n",
    "a.) Using grid search and your selected metric, find the best hyperparameters for two models: SVM and KNN. Briefly describe how you selected the hyperparameters and their values for grid search.\n",
    "    \n",
    "b.) Combine the SVM, KNN with the best parameters, and a decision tree model with default parameters, into a voting classifier. Evaluate its performance.\n",
    "\n",
    "c.) Train a random forest model and evaluate its performance."
   ]
  },
  {
   "cell_type": "markdown",
   "metadata": {},
   "source": [
    "<b>NOTE: Grid search was limited to 3x3 parameters for each model, as computing time got extremely long!\n",
    "The consequence of that is, that there could potentially be a better combination of params to be found out with more computations.</b>"
   ]
  },
  {
   "cell_type": "markdown",
   "metadata": {},
   "source": [
    "### Support vector machine (SVM)\n",
    "\n",
    "Docs: https://scikit-learn.org/stable/modules/generated/sklearn.svm.SVC.html"
   ]
  },
  {
   "cell_type": "code",
   "execution_count": 185,
   "metadata": {},
   "outputs": [],
   "source": [
    "# select features\n",
    "features = []\n",
    "\n",
    "# loop all columns onto the features array\n",
    "for series in df:\n",
    "    features.append(series)\n",
    "\n",
    "# remove the label column \"income\"\n",
    "features.pop()\n",
    "\n",
    "X = df[features]\n",
    "y = df.income\n",
    "\n",
    "# scaling the data\n",
    "\n",
    "# scaling is an important step here, as categorical data was transformed to binary\n",
    "# and would skew the feature importances as compared to the continuous features\n",
    "\n",
    "from sklearn.preprocessing import StandardScaler\n",
    "scaler = StandardScaler()\n",
    "X = scaler.fit_transform(X)"
   ]
  },
  {
   "cell_type": "code",
   "execution_count": 186,
   "metadata": {},
   "outputs": [
    {
     "data": {
      "text/plain": [
       "['race_Asian-Pac-Islander',\n",
       " 'race_Black',\n",
       " 'race_Other',\n",
       " 'race_White',\n",
       " 'marital_status_Married-AF-spouse',\n",
       " 'marital_status_Married-civ-spouse',\n",
       " 'marital_status_Married-spouse-absent',\n",
       " 'marital_status_Never-married',\n",
       " 'marital_status_Separated',\n",
       " 'marital_status_Widowed',\n",
       " 'workclass_Local-gov',\n",
       " 'workclass_Private',\n",
       " 'workclass_Self-emp-inc',\n",
       " 'workclass_Self-emp-not-inc',\n",
       " 'workclass_State-gov',\n",
       " 'workclass_Without-pay',\n",
       " 'age',\n",
       " 'education_num',\n",
       " 'sex',\n",
       " 'capital_pl',\n",
       " 'hours_per_week']"
      ]
     },
     "execution_count": 186,
     "metadata": {},
     "output_type": "execute_result"
    }
   ],
   "source": [
    "# list features\n",
    "features"
   ]
  },
  {
   "cell_type": "code",
   "execution_count": 209,
   "metadata": {},
   "outputs": [
    {
     "data": {
      "text/plain": [
       "array([-0.17220075, -0.3212919 , -0.08874456,  0.40315797, -0.0266244 ,\n",
       "       -0.93376556, -0.11122186,  1.44954738, -0.1795581 , -0.17055839,\n",
       "       -0.27143684, -1.67095059, -0.19439658, -0.30283819,  4.71320334,\n",
       "       -0.0215656 ,  0.03358477,  1.12892314,  0.69382303,  0.15398187,\n",
       "       -0.07849301])"
      ]
     },
     "execution_count": 209,
     "metadata": {},
     "output_type": "execute_result"
    }
   ],
   "source": [
    "# feature values after scaling\n",
    "X[0]"
   ]
  },
  {
   "cell_type": "code",
   "execution_count": 188,
   "metadata": {},
   "outputs": [
    {
     "data": {
      "text/plain": [
       "(33881, 11294)"
      ]
     },
     "execution_count": 188,
     "metadata": {},
     "output_type": "execute_result"
    }
   ],
   "source": [
    "#train and test split\n",
    "from sklearn.model_selection import train_test_split\n",
    "xTrain, xTest, yTrain, yTest = train_test_split(X, y, random_state = 1)\n",
    "len(xTrain),len(xTest)"
   ]
  },
  {
   "cell_type": "code",
   "execution_count": 189,
   "metadata": {},
   "outputs": [
    {
     "data": {
      "text/plain": [
       "0.6225713104588673"
      ]
     },
     "execution_count": 189,
     "metadata": {},
     "output_type": "execute_result"
    }
   ],
   "source": [
    "from sklearn.svm import SVC\n",
    "from sklearn.metrics import f1_score\n",
    "\n",
    "# train svm classifiers / parameters are kept default\n",
    "clf = SVC(gamma = 'auto')\n",
    "clf.fit(xTrain, yTrain)\n",
    "yPred = clf.predict(xTest)\n",
    "\n",
    "# f1 score is for model performance\n",
    "f1_score(yTest, yPred)"
   ]
  },
  {
   "cell_type": "code",
   "execution_count": 190,
   "metadata": {},
   "outputs": [
    {
     "data": {
      "text/plain": [
       "GridSearchCV(cv=4, error_score=nan,\n",
       "             estimator=SVC(C=1.0, break_ties=False, cache_size=200,\n",
       "                           class_weight=None, coef0=0.0,\n",
       "                           decision_function_shape='ovr', degree=3,\n",
       "                           gamma='scale', kernel='rbf', max_iter=-1,\n",
       "                           probability=False, random_state=None, shrinking=True,\n",
       "                           tol=0.001, verbose=False),\n",
       "             iid='deprecated', n_jobs=None,\n",
       "             param_grid={'C': [0.1, 1, 10], 'gamma': [0.1, 1, 10]},\n",
       "             pre_dispatch='2*n_jobs', refit=True, return_train_score=False,\n",
       "             scoring='f1', verbose=0)"
      ]
     },
     "execution_count": 190,
     "metadata": {},
     "output_type": "execute_result"
    }
   ],
   "source": [
    "from sklearn.model_selection import GridSearchCV\n",
    "# docs: https://scikit-learn.org/stable/modules/generated/sklearn.model_selection.GridSearchCV.html\n",
    "\n",
    "# model\n",
    "svc = SVC(kernel = 'rbf')\n",
    "\n",
    "# parameters for grid search\n",
    "params = {'C': [0.1, 1, 10], 'gamma': [0.1, 1, 10]}\n",
    "\n",
    "# grid search\n",
    "gridClf = GridSearchCV(svc, params, cv = 4, scoring = \"f1\")\n",
    "gridClf.fit(xTrain, yTrain)"
   ]
  },
  {
   "cell_type": "code",
   "execution_count": 191,
   "metadata": {},
   "outputs": [
    {
     "data": {
      "text/plain": [
       "[(0.5935462743901962, {'C': 0.1, 'gamma': 0.1}),\n",
       " (0.5139720861288481, {'C': 0.1, 'gamma': 1}),\n",
       " (0.1913406266863226, {'C': 0.1, 'gamma': 10}),\n",
       " (0.6244779277790913, {'C': 1, 'gamma': 0.1}),\n",
       " (0.6176805743237634, {'C': 1, 'gamma': 1}),\n",
       " (0.49007711525329334, {'C': 1, 'gamma': 10}),\n",
       " (0.6310346728568567, {'C': 10, 'gamma': 0.1}),\n",
       " (0.6170153523017807, {'C': 10, 'gamma': 1}),\n",
       " (0.4998201951537892, {'C': 10, 'gamma': 10})]"
      ]
     },
     "execution_count": 191,
     "metadata": {},
     "output_type": "execute_result"
    }
   ],
   "source": [
    "# Entire grid results (optional)\n",
    "list(zip(gridClf.cv_results_[\"mean_test_score\"], gridClf.cv_results_[\"params\"]))"
   ]
  },
  {
   "cell_type": "code",
   "execution_count": 193,
   "metadata": {},
   "outputs": [
    {
     "name": "stdout",
     "output_type": "stream",
     "text": [
      "0.6310346728568567 {'C': 10, 'gamma': 0.1}\n"
     ]
    }
   ],
   "source": [
    "# SVM results\n",
    "print(gridClf.best_score_, gridClf.best_params_)"
   ]
  },
  {
   "cell_type": "markdown",
   "metadata": {},
   "source": [
    "#### Parameters\n",
    "- <code>C=10</code>\n",
    "- <code>gamma=0.1</code>"
   ]
  },
  {
   "cell_type": "markdown",
   "metadata": {},
   "source": [
    "### K-nearest-neighbors (KNN)\n",
    "\n",
    "Docs: https://scikit-learn.org/stable/modules/generated/sklearn.neighbors.KNeighborsClassifier.html"
   ]
  },
  {
   "cell_type": "code",
   "execution_count": 195,
   "metadata": {},
   "outputs": [],
   "source": [
    "from sklearn.neighbors import KNeighborsClassifier\n",
    "pd.options.mode.chained_assignment = None  # for better Pandas behavior\n",
    "\n",
    "# scaling the data for KNN\n",
    "\n",
    "# data was already scaled for SVM, so no scaling a second time!"
   ]
  },
  {
   "cell_type": "code",
   "execution_count": 196,
   "metadata": {},
   "outputs": [
    {
     "data": {
      "text/plain": [
       "GridSearchCV(cv=None, error_score=nan,\n",
       "             estimator=KNeighborsClassifier(algorithm='auto', leaf_size=30,\n",
       "                                            metric='minkowski',\n",
       "                                            metric_params=None, n_jobs=None,\n",
       "                                            n_neighbors=5, p=2,\n",
       "                                            weights='uniform'),\n",
       "             iid='deprecated', n_jobs=None,\n",
       "             param_grid={'leaf_size': [10, 20, 30], 'n_neighbors': [1, 5, 10],\n",
       "                         'weights': ['uniform', 'distance']},\n",
       "             pre_dispatch='2*n_jobs', refit=True, return_train_score=False,\n",
       "             scoring='f1', verbose=0)"
      ]
     },
     "execution_count": 196,
     "metadata": {},
     "output_type": "execute_result"
    }
   ],
   "source": [
    "from sklearn.neighbors import KNeighborsClassifier\n",
    "\n",
    "# model\n",
    "clf2 = KNeighborsClassifier()\n",
    "\n",
    "\n",
    "# grid search for best KNN parameters\n",
    "\n",
    "# parameters\n",
    "params2 = { 'n_neighbors': [1, 5, 10], 'weights': ['uniform', 'distance'], 'leaf_size':[10, 20, 30] }\n",
    "\n",
    "# grid search\n",
    "gridClf2 = GridSearchCV(clf2, params2, scoring = \"f1\")\n",
    "gridClf2.fit(xTrain,yTrain)"
   ]
  },
  {
   "cell_type": "code",
   "execution_count": 197,
   "metadata": {},
   "outputs": [
    {
     "name": "stdout",
     "output_type": "stream",
     "text": [
      "0.6083175344579447 {'leaf_size': 20, 'n_neighbors': 5, 'weights': 'uniform'}\n"
     ]
    }
   ],
   "source": [
    "# KNN results\n",
    "print(gridClf2.best_score_, gridClf2.best_params_)"
   ]
  },
  {
   "cell_type": "markdown",
   "metadata": {},
   "source": [
    "#### Parameters\n",
    "- <code>leaf_size=20</code>\n",
    "- <code>n_neighbors=5</code>\n",
    "- <code>weights='uniform'</code>"
   ]
  },
  {
   "cell_type": "markdown",
   "metadata": {},
   "source": [
    "### Decision Tree\n",
    "\n",
    "Docs: https://scikit-learn.org/stable/modules/generated/sklearn.tree.DecisionTreeClassifier.html"
   ]
  },
  {
   "cell_type": "markdown",
   "metadata": {},
   "source": [
    "### Voting classifier"
   ]
  },
  {
   "cell_type": "code",
   "execution_count": 198,
   "metadata": {},
   "outputs": [
    {
     "data": {
      "text/plain": [
       "VotingClassifier(estimators=[('svc',\n",
       "                              SVC(C=10, break_ties=False, cache_size=200,\n",
       "                                  class_weight=None, coef0=0.0,\n",
       "                                  decision_function_shape='ovr', degree=3,\n",
       "                                  gamma=0.1, kernel='rbf', max_iter=-1,\n",
       "                                  probability=False, random_state=None,\n",
       "                                  shrinking=True, tol=0.001, verbose=False)),\n",
       "                             ('knn',\n",
       "                              KNeighborsClassifier(algorithm='auto',\n",
       "                                                   leaf_size=20,\n",
       "                                                   metric='minkowski',\n",
       "                                                   metric_params=Non...\n",
       "                              DecisionTreeClassifier(ccp_alpha=0.0,\n",
       "                                                     class_weight=None,\n",
       "                                                     criterion='gini',\n",
       "                                                     max_depth=None,\n",
       "                                                     max_features=None,\n",
       "                                                     max_leaf_nodes=None,\n",
       "                                                     min_impurity_decrease=0.0,\n",
       "                                                     min_impurity_split=None,\n",
       "                                                     min_samples_leaf=1,\n",
       "                                                     min_samples_split=2,\n",
       "                                                     min_weight_fraction_leaf=0.0,\n",
       "                                                     presort='deprecated',\n",
       "                                                     random_state=1,\n",
       "                                                     splitter='best'))],\n",
       "                 flatten_transform=True, n_jobs=None, voting='hard',\n",
       "                 weights=None)"
      ]
     },
     "execution_count": 198,
     "metadata": {},
     "output_type": "execute_result"
    }
   ],
   "source": [
    "from sklearn.ensemble import VotingClassifier\n",
    "from sklearn.tree import DecisionTreeClassifier\n",
    "\n",
    "svc = SVC(kernel='rbf', C=10, gamma=0.1)\n",
    "knn = KNeighborsClassifier(leaf_size=20, n_neighbors=5, weights='uniform')\n",
    "tree = DecisionTreeClassifier(random_state = 1)\n",
    "\n",
    "# creating ensemble\n",
    "vc = VotingClassifier(estimators = [('svc', svc), ('knn', knn), ('tree', tree)], \n",
    "                      voting = \"hard\")\n",
    "\n",
    "vc.fit(X,y)"
   ]
  },
  {
   "cell_type": "code",
   "execution_count": 199,
   "metadata": {},
   "outputs": [
    {
     "data": {
      "text/plain": [
       "0.7657460758990663"
      ]
     },
     "execution_count": 199,
     "metadata": {},
     "output_type": "execute_result"
    }
   ],
   "source": [
    "# performance measure\n",
    "\n",
    "yPred = vc.predict(xTest)\n",
    "f1_score(yTest, yPred)"
   ]
  },
  {
   "cell_type": "code",
   "execution_count": 200,
   "metadata": {},
   "outputs": [
    {
     "data": {
      "text/plain": [
       "array([[8188,  301],\n",
       "       [ 878, 1927]])"
      ]
     },
     "execution_count": 200,
     "metadata": {},
     "output_type": "execute_result"
    }
   ],
   "source": [
    "from sklearn.metrics import confusion_matrix\n",
    "\n",
    "confusion_matrix(yTest, yPred)"
   ]
  },
  {
   "cell_type": "markdown",
   "metadata": {},
   "source": [
    "### Random forest classifier\n",
    "\n",
    "Docs: https://scikit-learn.org/stable/modules/generated/sklearn.ensemble.RandomForestClassifier.html"
   ]
  },
  {
   "cell_type": "code",
   "execution_count": 201,
   "metadata": {},
   "outputs": [],
   "source": [
    "from sklearn.ensemble import RandomForestClassifier\n",
    "\n",
    "# test best parameters for random forest model\n",
    "# Your code here\n",
    "bestScore = { 'params': [], 'score': 0 }\n",
    "for depth in [2, 4, 6, 8, 10]:\n",
    "  for est in [2, 5, 8, 12, 15, 20]:\n",
    "    for boo in [True, False]:\n",
    "      f1 = f1_score(yTest,\n",
    "        RandomForestClassifier(max_depth = depth, n_estimators = est, bootstrap = boo, \n",
    "                              random_state = 1)\n",
    "          .fit(xTrain, yTrain)\n",
    "          .predict(xTest))\n",
    "      if f1 > bestScore['score']:\n",
    "        bestScore['params'] = [depth, est, boo]\n",
    "        bestScore['score'] = f1"
   ]
  },
  {
   "cell_type": "code",
   "execution_count": 202,
   "metadata": {},
   "outputs": [
    {
     "data": {
      "text/plain": [
       "{'params': [10, 20, False], 'score': 0.6528977871443625}"
      ]
     },
     "execution_count": 202,
     "metadata": {},
     "output_type": "execute_result"
    }
   ],
   "source": [
    "# print the best score\n",
    "bestScore"
   ]
  },
  {
   "cell_type": "code",
   "execution_count": 203,
   "metadata": {},
   "outputs": [
    {
     "data": {
      "text/plain": [
       "RandomForestClassifier(bootstrap=False, ccp_alpha=0.0, class_weight=None,\n",
       "                       criterion='gini', max_depth=10, max_features='auto',\n",
       "                       max_leaf_nodes=None, max_samples=None,\n",
       "                       min_impurity_decrease=0.0, min_impurity_split=None,\n",
       "                       min_samples_leaf=1, min_samples_split=2,\n",
       "                       min_weight_fraction_leaf=0.0, n_estimators=20,\n",
       "                       n_jobs=None, oob_score=False, random_state=1, verbose=0,\n",
       "                       warm_start=False)"
      ]
     },
     "execution_count": 203,
     "metadata": {},
     "output_type": "execute_result"
    }
   ],
   "source": [
    "# build the model with optimal params\n",
    "rf = RandomForestClassifier(max_depth = 10, n_estimators = 20, bootstrap = False, random_state = 1)\n",
    "rf.fit(xTrain, yTrain)"
   ]
  },
  {
   "cell_type": "code",
   "execution_count": 205,
   "metadata": {},
   "outputs": [
    {
     "data": {
      "text/plain": [
       "0.6528977871443625"
      ]
     },
     "execution_count": 205,
     "metadata": {},
     "output_type": "execute_result"
    }
   ],
   "source": [
    "# evaluate performance\n",
    "yPredRf = rf.predict(xTest)\n",
    "f1_score(yTest, yPredRf)"
   ]
  },
  {
   "cell_type": "code",
   "execution_count": 206,
   "metadata": {},
   "outputs": [
    {
     "data": {
      "text/plain": [
       "array([[8098,  391],\n",
       "       [1256, 1549]])"
      ]
     },
     "execution_count": 206,
     "metadata": {},
     "output_type": "execute_result"
    }
   ],
   "source": [
    "# confusion matrix\n",
    "confusion_matrix(yTest, yPredRf)"
   ]
  },
  {
   "cell_type": "code",
   "execution_count": 208,
   "metadata": {},
   "outputs": [
    {
     "data": {
      "text/plain": [
       "[('marital_status_Married-civ-spouse', 0.2699739137139782),\n",
       " ('capital_pl', 0.2319179964246632),\n",
       " ('education_num', 0.20953572344162535),\n",
       " ('marital_status_Never-married', 0.08877081153282643),\n",
       " ('hours_per_week', 0.08157853556655172),\n",
       " ('age', 0.06417597374484649),\n",
       " ('sex', 0.018687834286830206),\n",
       " ('workclass_Self-emp-inc', 0.007818464310762042),\n",
       " ('workclass_Self-emp-not-inc', 0.007069476700487675),\n",
       " ('workclass_Private', 0.005987015148884932),\n",
       " ('marital_status_Separated', 0.0029634058865359732),\n",
       " ('race_Black', 0.002287532939683499),\n",
       " ('race_White', 0.0022083908399673736),\n",
       " ('marital_status_Widowed', 0.0017121325228156834),\n",
       " ('workclass_Local-gov', 0.0012378054728748467),\n",
       " ('race_Asian-Pac-Islander', 0.001145909930071772),\n",
       " ('workclass_State-gov', 0.0009769262977441955),\n",
       " ('marital_status_Married-spouse-absent', 0.0008497788327113707),\n",
       " ('race_Other', 0.0006035042390194366),\n",
       " ('marital_status_Married-AF-spouse', 0.0003999710395890042),\n",
       " ('workclass_Without-pay', 9.889712753059519e-05)]"
      ]
     },
     "execution_count": 208,
     "metadata": {},
     "output_type": "execute_result"
    }
   ],
   "source": [
    "# measuring feature importances\n",
    "featureImportances = list(zip(features, rf.feature_importances_))\n",
    "list(sorted(featureImportances, key = lambda x: x[1], reverse = True))"
   ]
  },
  {
   "cell_type": "markdown",
   "metadata": {},
   "source": [
    "### Feature importances\n",
    "By far the most important feature is workclass: subjects 'Without-pay' are obviously a good predictor for income"
   ]
  },
  {
   "cell_type": "markdown",
   "metadata": {},
   "source": [
    "## Question 3: PCA\n",
    "\n",
    "a.) Suppose you perform PCA on a 1,000-dimensional dataset, setting the explained variance ratio to 95%. How many dimensions will the resulting dataset have after the PCA? Take two extreme scenarios: 1) dataset almost perfectly aligned 2) dataset perfectly random sampled to answer the question.\n",
    "\n",
    "b.) In which scenarios/conditions would you use vanilla PCA, Incremental PCA, Randomized PCA, or Kernel PCA?"
   ]
  },
  {
   "cell_type": "markdown",
   "metadata": {},
   "source": [
    "### Solution:\n",
    "\n",
    "\n",
    "<b>a.) Scenario 1:</b>\n",
    "In the case of a almost perfectly aligned dataset, PCA will perform quite good and reduce the 1,000 dimensions asymptotically close to a single dimension, while maintaining the variance of ~95%.\n",
    "\n",
    "<b>Scenario 2:</b>\n",
    "If a dataset is perfectly randomly distributed on 1,000 dimensions, PCA will have a hard time reducing the number of dimensions without messing up the variance. Approximately 1,000 * 0,95 = 950 dimensions could be required to retain a variance of 95%, but depending on the data it could be less.\n",
    "\n",
    "\n",
    "<b>b.)</b>Vanilla PCA works fine, but the whole dataset needs to be loaded into memory. This can be a problem in the case of really large datasets. Consequently, If memory is not a bottleneck, I would use vanilla PCA.\n",
    "Incremental PCA can be used, when not all data fits into memory, streams of data are analyzed or the data is accumulated in an asynchronous manner. Randomized PCA can only be used when the whole dataset fits into memory, but quickly finds an approximation of the first d. Kernel PCA can be used for non-linear data."
   ]
  },
  {
   "cell_type": "markdown",
   "metadata": {},
   "source": [
    "## Question 4: PCA (Principal component analysis)\n",
    "\n",
    "a.) Load the MNIST dataset and split it into a training set and a test set (take the first 60,000 instances for training, and the remaining 10,000 for testing). Train a Random Forest classifier on the dataset and time how long it takes, then evaluate the resulting model on the test set.\n",
    "Next, use PCA to reduce the dataset’s dimensionality, with an explained variance ratio of 95%. Train a new Random Forest classifier on the reduced dataset and see how long it takes. Was training much faster? Next, evaluate the classifier on the test set. How does it compare to the previous classifier?\n",
    "\n",
    "b.) Some dimensionality reduction techniques can also be used for anomaly detection. For example, take the Olivetti faces dataset and reduce it with PCA, preserving 99% of the variance. Then compute the reconstruction error for each image. Next, take some of the images you built and modify some images using techniques such as rotate, flip, darken, and look at their reconstruction error: notice how much larger the reconstruction error is. If you plot a reconstructed image, you will see why: it tries to reconstruct a normal face."
   ]
  },
  {
   "cell_type": "markdown",
   "metadata": {},
   "source": [
    "#### Solution 4A"
   ]
  },
  {
   "cell_type": "code",
   "execution_count": 61,
   "metadata": {},
   "outputs": [],
   "source": [
    "from sklearn.datasets import fetch_openml\n",
    "\n",
    "mnist = fetch_openml('mnist_784', version=1)\n",
    "\n",
    "X_train = mnist['data'][:60000]\n",
    "y_train = mnist['target'][:60000]\n",
    "\n",
    "X_test = mnist['data'][60000:]\n",
    "y_test = mnist['target'][60000:]"
   ]
  },
  {
   "cell_type": "code",
   "execution_count": 62,
   "metadata": {},
   "outputs": [],
   "source": [
    "from sklearn.ensemble import RandomForestClassifier\n",
    "import time\n",
    "\n",
    "clf4 = RandomForestClassifier(n_estimators=100, random_state=1)\n",
    "\n",
    "# save time before training model\n",
    "t0 = time.time()\n",
    "\n",
    "# train model\n",
    "clf4.fit(X_train, y_train)\n",
    "\n",
    "# save time after\n",
    "t1 = time.time()"
   ]
  },
  {
   "cell_type": "code",
   "execution_count": 64,
   "metadata": {},
   "outputs": [
    {
     "name": "stdout",
     "output_type": "stream",
     "text": [
      "39.00961399078369\n"
     ]
    }
   ],
   "source": [
    "print(format(t1 - t0))"
   ]
  },
  {
   "cell_type": "code",
   "execution_count": 65,
   "metadata": {},
   "outputs": [
    {
     "data": {
      "text/plain": [
       "0.9699"
      ]
     },
     "execution_count": 65,
     "metadata": {},
     "output_type": "execute_result"
    }
   ],
   "source": [
    "from sklearn.metrics import accuracy_score\n",
    "\n",
    "# measure model performance\n",
    "y_pred = clf4.predict(X_test)\n",
    "accuracy_score(y_test, y_pred)"
   ]
  },
  {
   "cell_type": "code",
   "execution_count": 70,
   "metadata": {},
   "outputs": [],
   "source": [
    "from sklearn.decomposition import PCA\n",
    "\n",
    "pca = PCA(n_components=0.95)\n",
    "X_train_reduced = pca.fit_transform(X_train)"
   ]
  },
  {
   "cell_type": "code",
   "execution_count": 71,
   "metadata": {},
   "outputs": [],
   "source": [
    "# model\n",
    "clf5 = RandomForestClassifier(n_estimators=100, random_state=1)\n",
    "\n",
    "# save time before training model\n",
    "t0 = time.time()\n",
    "\n",
    "# train model\n",
    "clf5.fit(X_train_reduced, y_train)\n",
    "\n",
    "# save time after\n",
    "t1 = time.time()"
   ]
  },
  {
   "cell_type": "code",
   "execution_count": 72,
   "metadata": {},
   "outputs": [
    {
     "name": "stdout",
     "output_type": "stream",
     "text": [
      "85.88539814949036\n"
     ]
    }
   ],
   "source": [
    "print(format(t1 - t0))"
   ]
  },
  {
   "cell_type": "code",
   "execution_count": 73,
   "metadata": {},
   "outputs": [
    {
     "data": {
      "text/plain": [
       "0.9502"
      ]
     },
     "execution_count": 73,
     "metadata": {},
     "output_type": "execute_result"
    }
   ],
   "source": [
    "X_test_reduced = pca.transform(X_test)\n",
    "\n",
    "y_pred = clf5.predict(X_test_reduced)\n",
    "accuracy_score(y_test, y_pred)"
   ]
  },
  {
   "cell_type": "markdown",
   "metadata": {},
   "source": [
    "### Solution:\n",
    "\n",
    "Training the model with the PCA fitted data took <code>85.89s</code> as compared to <code>39.01s</code> previously without PCA. Consequently, training the model after the PCA took more than twice as long. The slight loss in performance from an accuracy_score of <code>0.9699</code> to <code>0.9502</code> after PCA is expected due to the loss of dimensionality. For this dataset and training model, PCA was really counter-productive."
   ]
  },
  {
   "cell_type": "markdown",
   "metadata": {},
   "source": [
    "#### Solution 4B\n",
    "\n",
    "The book <b>Hands-on Machine Learning with Scikit-Learn & TensorFlow</b> [Link](https://www.academia.edu/37010160/Hands-On_Machine_Learning_with_Scikit-Learn_and_TensorFlow) was of great help for the solution of this task. The author provided advice on his [GitHub](https://github.com/ageron) on how to perform the image transformations. I used part of the code for the image transformations for my solution in this notebook."
   ]
  },
  {
   "cell_type": "code",
   "execution_count": 46,
   "metadata": {},
   "outputs": [
    {
     "name": "stdout",
     "output_type": "stream",
     "text": [
      "downloading Olivetti faces from https://ndownloader.figshare.com/files/5976027 to /Users/dominikgadesmann/scikit_learn_data\n"
     ]
    }
   ],
   "source": [
    "from sklearn.datasets import fetch_olivetti_faces\n",
    "\n",
    "olivetti = fetch_olivetti_faces()"
   ]
  },
  {
   "cell_type": "code",
   "execution_count": 77,
   "metadata": {},
   "outputs": [
    {
     "data": {
      "text/plain": [
       "(300, 100)"
      ]
     },
     "execution_count": 77,
     "metadata": {},
     "output_type": "execute_result"
    }
   ],
   "source": [
    "# train-test-split\n",
    "x_Train, x_Test, y_Train, y_Test = train_test_split(olivetti.data, olivetti.target, random_state =22)\n",
    "len(x_Train), len(x_Test)"
   ]
  },
  {
   "cell_type": "code",
   "execution_count": 79,
   "metadata": {},
   "outputs": [
    {
     "data": {
      "text/plain": [
       "209"
      ]
     },
     "execution_count": 79,
     "metadata": {},
     "output_type": "execute_result"
    }
   ],
   "source": [
    "# model with 0.99% variance\n",
    "pca2 = PCA(0.99, random_state = 1)\n",
    "\n",
    "# apply pca to images\n",
    "X_train_pca = pca2.fit_transform(x_Train)\n",
    "X_test_pca = pca2.transform(x_Test)\n",
    "\n",
    "pca2.n_components_"
   ]
  },
  {
   "cell_type": "code",
   "execution_count": 81,
   "metadata": {},
   "outputs": [
    {
     "name": "stdout",
     "output_type": "stream",
     "text": [
      "[6.94722985e-05 2.79314263e-04 2.70409131e-04 1.78328584e-04\n",
      " 2.55660678e-04 3.54920048e-04 3.21120839e-04 5.08658486e-05\n",
      " 3.05809459e-04 2.42465743e-04 1.79227471e-04 3.28826747e-04\n",
      " 3.19051149e-04 5.68908363e-05 9.67928354e-05 2.71856319e-04\n",
      " 1.17330004e-04 1.31743844e-04 4.66671081e-05 8.50615615e-05\n",
      " 3.12200398e-04 3.44111497e-04 1.96468085e-04 2.56089435e-04\n",
      " 2.57819338e-04 1.65630132e-04 1.34464863e-04 2.95303238e-04\n",
      " 5.31580990e-05 4.28648527e-05 1.84538541e-04 3.58311809e-04\n",
      " 2.46033393e-04 1.96581153e-04 2.55693682e-04 1.98207796e-04\n",
      " 3.14894365e-04 2.75717874e-04 7.00253004e-05 1.56473048e-04\n",
      " 2.79165048e-04 2.26534466e-04 2.04307784e-04 2.77966719e-05\n",
      " 3.75534408e-04 2.85423710e-04 3.42768442e-04 2.96186627e-04\n",
      " 5.35608051e-05 7.52460910e-05 3.37766804e-04 1.31185865e-04\n",
      " 2.86231865e-04 3.05293303e-04 7.85112643e-05 1.07615851e-04\n",
      " 2.49238277e-04 2.51906429e-04 2.57857115e-04 1.11832116e-04\n",
      " 2.55460938e-04 3.28331109e-04 2.46485317e-04 4.96607245e-05\n",
      " 3.04950663e-04 1.67713908e-04 8.87558999e-05 5.35497420e-05\n",
      " 2.37813714e-04 2.03552627e-04 1.80710253e-04 1.57381728e-04\n",
      " 2.30384845e-04 2.22423318e-04 3.74708208e-04 1.52652734e-04\n",
      " 5.85558737e-05 2.64085247e-04 1.02135644e-04 2.44894327e-04\n",
      " 3.23345157e-04 5.07238801e-05 1.10654553e-04 2.01208924e-04\n",
      " 2.76497798e-04 1.28143380e-04 2.74507402e-05 2.87608309e-05\n",
      " 2.28536985e-04 2.09421152e-04 2.74303835e-04 3.13495664e-04\n",
      " 4.23512865e-05 1.60979660e-04 9.59549652e-05 1.01863654e-04\n",
      " 3.10614414e-04 3.55773023e-04 1.15775008e-04 1.93525295e-04\n",
      " 1.07675216e-04 3.52327072e-04 1.01555313e-04 8.61489971e-05\n",
      " 1.21768113e-04 2.24125426e-04 2.53025530e-04 3.19072336e-04\n",
      " 1.14690425e-04 5.54536200e-05 5.12771512e-05 2.80659460e-05\n",
      " 2.34037041e-04 2.80866661e-04 3.21965665e-04 2.80545282e-05\n",
      " 3.59391328e-04 2.41742702e-04 3.40551720e-04 5.78250947e-05\n",
      " 2.10010359e-04 4.04367966e-05 2.62018933e-04 1.83193712e-04\n",
      " 3.45027773e-04 2.51735037e-04 1.63309698e-04 3.08320392e-04\n",
      " 4.64422483e-05 5.86591414e-05 3.22245978e-05 7.67428719e-05\n",
      " 2.76885461e-04 2.74103135e-04 2.56040104e-04 1.47482191e-04\n",
      " 2.17616762e-04 1.84749442e-04 1.75593974e-04 1.17870499e-04\n",
      " 3.17454746e-04 1.79910057e-04 4.53930770e-05 3.01070802e-04\n",
      " 4.70005107e-05 2.70019460e-04 2.77565967e-04 3.11839569e-04\n",
      " 2.97623163e-04 2.97433668e-04 1.43809710e-04 3.46838380e-04\n",
      " 2.31027225e-04 4.77163521e-05 1.70497267e-04 2.88259529e-04\n",
      " 5.01381764e-05 1.82502423e-04 2.86949682e-04 1.96688241e-04\n",
      " 2.39701942e-04 6.19944694e-05 1.22584286e-04 2.67627591e-04\n",
      " 4.93719490e-05 1.07480373e-04 7.40185060e-05 2.51574587e-04\n",
      " 1.88702543e-04 3.23697022e-04 2.14095693e-04 2.49151373e-04\n",
      " 3.16608173e-04 2.04548880e-04 2.98771600e-04 1.31215435e-04\n",
      " 2.34716979e-04 2.49106233e-04 1.56630442e-04 4.15547729e-05\n",
      " 1.84307166e-04 2.96919297e-05 2.99322070e-04 2.46155832e-04\n",
      " 5.42681591e-05 8.26413743e-05 2.33800849e-04 5.65080300e-05\n",
      " 2.43456117e-04 2.89237447e-04 2.42102702e-04 1.16351017e-04\n",
      " 1.34303657e-04 3.15187033e-04 8.88849463e-05 1.84804667e-04\n",
      " 2.72039557e-04 1.12855982e-04 9.62777121e-05 4.00445424e-05\n",
      " 9.51229522e-05 1.70269908e-04 8.43101443e-05 6.75781339e-05\n",
      " 1.16142081e-04 2.62031332e-04 2.76698498e-04 2.14299987e-04\n",
      " 3.37594742e-04 1.02713188e-04 1.86173827e-04 2.55159597e-04\n",
      " 7.16514623e-05 7.79207257e-05 3.19588813e-04 2.77431718e-05\n",
      " 2.72622681e-04 1.79677561e-04 2.38445878e-04 6.47388079e-05\n",
      " 1.87522688e-04 1.20378150e-04 1.88505001e-05 7.89444603e-05\n",
      " 5.59542023e-05 1.68246173e-04 9.05701163e-05 2.80255510e-04\n",
      " 1.50314285e-04 1.18622804e-04 1.46849052e-04 2.16769389e-04\n",
      " 3.31829768e-04 2.80563196e-04 1.41143493e-04 8.36950494e-05\n",
      " 2.93946592e-04 2.45575124e-04 1.27973675e-04 3.25506029e-04\n",
      " 1.84606353e-04 2.83034897e-04 3.08475166e-04 2.85865826e-04\n",
      " 7.47571394e-05 2.83387781e-04 1.23554637e-04 3.48912232e-04\n",
      " 6.84882543e-05 1.74249493e-04 2.59828812e-04 2.85372429e-04\n",
      " 1.51028071e-04 2.66451738e-04 4.31000262e-05 3.46263521e-04\n",
      " 6.01703941e-05 2.48499418e-04 2.56668020e-04 2.91228993e-04\n",
      " 1.67438513e-04 3.14472018e-05 2.32763006e-04 3.27970716e-04\n",
      " 1.36069706e-04 2.47005300e-05 4.33626192e-05 3.36589233e-04\n",
      " 2.74222140e-04 2.67742653e-05 1.55415502e-04 2.44256284e-04\n",
      " 1.16656709e-04 1.94948982e-04 1.60897907e-04 3.65443993e-04\n",
      " 2.77515326e-04 1.31433408e-04 2.70510762e-04 1.55700895e-04\n",
      " 3.01941094e-04 1.28204701e-04 1.40194406e-05 9.09171285e-05\n",
      " 8.37280531e-05 1.10263478e-04 3.05918220e-04 2.86981260e-04\n",
      " 1.83553551e-04 3.36331024e-04 2.12408107e-04 4.28681087e-05\n",
      " 2.93681369e-04 2.93998048e-04 2.39195593e-04 5.63450303e-05\n",
      " 7.93743966e-05 1.26502215e-04 9.61987462e-05 3.07927083e-04]\n"
     ]
    }
   ],
   "source": [
    "# pca inverse transformation\n",
    "reconst = pca2.inverse_transform(X_train_pca)\n",
    "\n",
    "# calculate reconstruction errors after pca\n",
    "total_reconst_error = np.square(reconst - x_Train).mean(axis=-1)\n",
    "print(total_reconst_error)"
   ]
  },
  {
   "cell_type": "markdown",
   "metadata": {},
   "source": [
    "The reconstruction error on the images is considerably small on the 4th/ 5th after comma dimension."
   ]
  },
  {
   "cell_type": "code",
   "execution_count": 107,
   "metadata": {},
   "outputs": [],
   "source": [
    "import matplotlib.pyplot as plt\n",
    "\n",
    "# function for plotting the images\n",
    "def plot_faces(faces, labels, n_cols=5):\n",
    "    n_rows = (len(faces) - 1) // n_cols + 1\n",
    "    plt.figure(figsize=(n_cols, n_rows * 1.1))\n",
    "    for index, (face, label) in enumerate(zip(faces, labels)):\n",
    "        plt.subplot(n_rows, n_cols, index + 1)\n",
    "        plt.imshow(face.reshape(64, 64), cmap=\"gray\")\n",
    "        plt.axis(\"off\")\n",
    "        plt.title(label)\n",
    "    plt.show()"
   ]
  },
  {
   "cell_type": "code",
   "execution_count": 108,
   "metadata": {},
   "outputs": [
    {
     "data": {
      "image/png": "[encoded data removed]",
      "text/plain": [
       "<Figure size 360x158.4 with 10 Axes>"
      ]
     },
     "metadata": {
      "needs_background": "light"
     },
     "output_type": "display_data"
    }
   ],
   "source": [
    "# mutating the images:\n",
    "\n",
    "# rotation\n",
    "n_rotated = 4\n",
    "rotated = np.transpose(x_Train[:n_rotated].reshape(-1, 64, 64), axes=[0, 2, 1])\n",
    "rotated = rotated.reshape(-1, 64*64)\n",
    "y_rotated = y_Train[:n_rotated]\n",
    "\n",
    "# flipping\n",
    "n_flipped = 3\n",
    "flipped = x_Train[:n_flipped].reshape(-1, 64, 64)[:, ::-1]\n",
    "flipped = flipped.reshape(-1, 64*64)\n",
    "y_flipped = y_Train[:n_flipped]\n",
    "\n",
    "# darkening\n",
    "n_darkened = 3\n",
    "darkened = x_Train[:n_darkened].copy()\n",
    "darkened[:, 1:-1] *= 0.3\n",
    "darkened = darkened.reshape(-1, 64*64)\n",
    "y_darkened = y_Train[:n_darkened]\n",
    "\n",
    "# resulting images\n",
    "X_modified = np.r_[rotated, flipped, darkened]\n",
    "y_modified = np.concatenate([y_rotated, y_flipped, y_darkened])\n",
    "\n",
    "plot_faces(X_modified, y_modified)"
   ]
  },
  {
   "cell_type": "code",
   "execution_count": 109,
   "metadata": {},
   "outputs": [
    {
     "name": "stdout",
     "output_type": "stream",
     "text": [
      "[0.00872716 0.00498176 0.00795863 0.00578135 0.00764011 0.0038536\n",
      " 0.00586883 0.00071204 0.0007156  0.00070667]\n"
     ]
    }
   ],
   "source": [
    "# transforming the images back\n",
    "X_modified_pca = pca2.transform(X_modified)\n",
    "\n",
    "# pca inverse transformation\n",
    "reconstModified = pca2.inverse_transform(X_modified_pca)\n",
    "\n",
    "# calculate reconstruction errors again after modifying and pca\n",
    "total_reconst_error2 = np.square(reconstModified - X_modified).mean(axis=-1)\n",
    "print(total_reconst_error2)"
   ]
  },
  {
   "cell_type": "markdown",
   "metadata": {},
   "source": [
    "The construction errors for the images are much larger than previously."
   ]
  },
  {
   "cell_type": "code",
   "execution_count": 110,
   "metadata": {},
   "outputs": [
    {
     "data": {
      "image/png": "[encoded data removed]",
      "text/plain": [
       "<Figure size 360x158.4 with 10 Axes>"
      ]
     },
     "metadata": {
      "needs_background": "light"
     },
     "output_type": "display_data"
    }
   ],
   "source": [
    "# plotting images after pca reconstruction\n",
    "plot_faces(reconstModified, y_modified)"
   ]
  },
  {
   "cell_type": "markdown",
   "metadata": {},
   "source": [
    "The reconstructed faces look brighter and very skewed."
   ]
  },
  {
   "cell_type": "markdown",
   "metadata": {},
   "source": [
    "## Question 5: Bayes rule for drug testing\n",
    "\n",
    "Suppose let’s say a drug test produces a positive result with probability of 0.99 for the drug users, which means P(T = 1 | D = 1) = 0.99, where the event P(T = 1 | D = 1) indicates the conditional probability of drug test showing positive result on a drug user. The also produces a negative result with probability 0.96 on the non-drug users, which means P (T = 0 | D = 0) = 0.96. The probability that a random person uses drugs is 0.001, so P(D = 1) = 0.001. What is the probability that a random person who tests to be positive in the drug test, is also a drug user, which is P(D = 1 | T = 1)?"
   ]
  },
  {
   "cell_type": "markdown",
   "metadata": {},
   "source": [
    "### Solution:\n",
    "\n",
    "#### given probabilities:\n",
    "\n",
    "P(T=1|D=1) = 0.99\n",
    "\n",
    "=> P(T=0|D=1 = 1 - 0.99 = 0.01\n",
    "\n",
    "P(T=0|D=0)=0.96\n",
    "\n",
    "=> P(T=1|D=0) = 1 - 0.96 = 0.04\n",
    "\n",
    "\n",
    "P(D=1) = 0.001\n",
    "\n",
    "=> P(D=0) = 1 - 0.001 = 0.999\n",
    "\n",
    "#### calculation:\n",
    "\n",
    "P(D=1|T=1) = ( P(D=1) * P(T=1|D=1) ) / ( P(D=1) * P(T=1|D=1) + P(T=1|D=0) * P(D=0) )\n",
    "\n",
    "= ( 0.001 * 0.99 ) / ( 0.001 * 0.99 + 0.04 * 0.999 )\n",
    "\n",
    "= 0.00099 / ( 0.00099 + 0.03996)\n",
    "\n",
    "= 0.00099 / 0.04095\n",
    "\n",
    "= 0.02417 => 2.42%\n",
    "\n",
    "#### answer:\n",
    "The probability that a random person being tested positive for drugs, is also a drug user, is approximately <code>2.42%</code>."
   ]
  },
  {
   "cell_type": "code",
   "execution_count": null,
   "metadata": {},
   "outputs": [],
   "source": []
  }
 ],
 "metadata": {
  "kernelspec": {
   "display_name": "Python 3",
   "language": "python",
   "name": "python3"
  },
  "language_info": {
   "codemirror_mode": {
    "name": "ipython",
    "version": 3
   },
   "file_extension": ".py",
   "mimetype": "text/x-python",
   "name": "python",
   "nbconvert_exporter": "python",
   "pygments_lexer": "ipython3",
   "version": "3.7.4"
  }
 },
 "nbformat": 4,
 "nbformat_minor": 4
}
